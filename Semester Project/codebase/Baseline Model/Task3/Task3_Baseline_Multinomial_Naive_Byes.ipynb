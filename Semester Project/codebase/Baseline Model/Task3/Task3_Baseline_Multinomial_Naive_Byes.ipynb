{
  "nbformat": 4,
  "nbformat_minor": 0,
  "metadata": {
    "colab": {
      "name": "Task3 Baseline- Multinomial Naive Byes",
      "provenance": [],
      "collapsed_sections": []
    },
    "kernelspec": {
      "name": "python3",
      "display_name": "Python 3"
    },
    "language_info": {
      "name": "python"
    }
  },
  "cells": [
    {
      "cell_type": "code",
      "execution_count": 10,
      "metadata": {
        "id": "mGZQsvEBLKSv"
      },
      "outputs": [],
      "source": [
        "import pandas as pd\n",
        "import numpy as np\n",
        "from sklearn.feature_extraction.text import TfidfVectorizer"
      ]
    },
    {
      "cell_type": "code",
      "source": [
        "#Task3\n",
        "train_data=pd.read_csv('train.tsv',sep='\\t')\n",
        "valid_data=pd.read_csv('valid.tsv',sep='\\t')\n",
        "\n",
        "train_data['label'].replace({\"Lit-News_mentions\":0, \"Nonpersonal_reports\":1, \"Self_reports\":2}, inplace=True)\n",
        "valid_data['label'].replace({\"Lit-News_mentions\":0, \"Nonpersonal_reports\":1, \"Self_reports\":2}, inplace=True)\n",
        "\n",
        "X_train=train_data['tweet']\n",
        "y_train=train_data['label']\n",
        "X_test=valid_data['tweet']\n",
        "y_test=valid_data['label']"
      ],
      "metadata": {
        "id": "tCnqD0ahLah8"
      },
      "execution_count": 11,
      "outputs": []
    },
    {
      "cell_type": "markdown",
      "source": [
        "TfIdf Vectorizer with Multinomial Naive Byes"
      ],
      "metadata": {
        "id": "gW99xPMVMSjN"
      }
    },
    {
      "cell_type": "code",
      "source": [
        "cv = TfidfVectorizer(strip_accents=\"ascii\", token_pattern=u\"(?ui)\\\\b\\\\w*[a-z]+\\\\w*\\\\b\", lowercase=True, stop_words=\"english\")\n",
        "X_train_cv = cv.fit_transform(X_train)\n",
        "X_test_cv = cv.transform(X_test)\n"
      ],
      "metadata": {
        "id": "OmSBGIVEMHAr"
      },
      "execution_count": 12,
      "outputs": []
    },
    {
      "cell_type": "code",
      "source": [
        "from sklearn.naive_bayes import MultinomialNB\n",
        "naive_bayes = MultinomialNB()\n",
        "naive_bayes.fit(X_train_cv, y_train)\n",
        "predictions = naive_bayes.predict(X_test_cv)"
      ],
      "metadata": {
        "id": "7Q-LIH-ELak8"
      },
      "execution_count": 13,
      "outputs": []
    },
    {
      "cell_type": "code",
      "source": [
        "from sklearn.metrics import accuracy_score, precision_score, recall_score,f1_score\n",
        "from sklearn.metrics import classification_report\n",
        "print(\"Accuracy score: \", accuracy_score(y_test, predictions))\n",
        "print(\"F-1 score: \", f1_score(y_test, predictions,average='micro'))\n",
        "print(\"Precision score: \", precision_score(y_test, predictions, average='micro'))\n",
        "print(\"Recall score: \", recall_score(y_test, predictions,average='micro'))\n",
        "print (classification_report(y_test, predictions))"
      ],
      "metadata": {
        "colab": {
          "base_uri": "https://localhost:8080/"
        },
        "id": "ijG88dtaLan-",
        "outputId": "d7585326-8667-44a6-ec83-24e0ae0ae32e"
      },
      "execution_count": 14,
      "outputs": [
        {
          "output_type": "stream",
          "name": "stdout",
          "text": [
            "Accuracy score:  0.866\n",
            "F-1 score:  0.866\n",
            "Precision score:  0.866\n",
            "Recall score:  0.866\n",
            "              precision    recall  f1-score   support\n",
            "\n",
            "           0       0.96      0.98      0.97       247\n",
            "           1       0.75      0.96      0.84       180\n",
            "           2       1.00      0.25      0.40        73\n",
            "\n",
            "    accuracy                           0.87       500\n",
            "   macro avg       0.90      0.73      0.74       500\n",
            "weighted avg       0.89      0.87      0.84       500\n",
            "\n"
          ]
        }
      ]
    }
  ]
}