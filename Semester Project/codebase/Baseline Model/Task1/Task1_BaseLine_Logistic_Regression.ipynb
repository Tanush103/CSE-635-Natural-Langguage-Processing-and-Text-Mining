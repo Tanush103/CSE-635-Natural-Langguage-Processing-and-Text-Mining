{
  "nbformat": 4,
  "nbformat_minor": 0,
  "metadata": {
    "colab": {
      "name": "Task1 BaseLine - Logistic Regression",
      "provenance": [],
      "collapsed_sections": []
    },
    "kernelspec": {
      "name": "python3",
      "display_name": "Python 3"
    },
    "language_info": {
      "name": "python"
    }
  },
  "cells": [
    {
      "cell_type": "code",
      "execution_count": 5,
      "metadata": {
        "id": "E6lffzWsFRYL"
      },
      "outputs": [],
      "source": [
        "import pandas as pd\n",
        "import numpy as np\n",
        "from sklearn.linear_model import LogisticRegression"
      ]
    },
    {
      "cell_type": "code",
      "source": [
        "#task1\n",
        "train_data=pd.read_csv('task2_en_training.tsv',sep='\\t')\n",
        "valid_data=pd.read_csv('task2_en_validation.tsv',sep='\\t')\n",
        "X_train=train_data['tweet']\n",
        "y_train=train_data['class']\n",
        "X_test=valid_data['tweet']\n",
        "y_test=valid_data['class']"
      ],
      "metadata": {
        "id": "Tilwi5mvHhoL"
      },
      "execution_count": 6,
      "outputs": []
    },
    {
      "cell_type": "markdown",
      "source": [
        "Tf-Idf Vectorizer with Logistic Regression"
      ],
      "metadata": {
        "id": "H1YrkqScK7hR"
      }
    },
    {
      "cell_type": "code",
      "source": [
        "from sklearn.feature_extraction.text import TfidfVectorizer\n",
        "cv = TfidfVectorizer(strip_accents=\"ascii\", token_pattern=u\"(?ui)\\\\b\\\\w*[a-z]+\\\\w*\\\\b\", lowercase=True, stop_words=\"english\")\n",
        "\n",
        "X_train_cv = cv.fit_transform(X_train)\n",
        "X_test_cv = cv.transform(X_test)"
      ],
      "metadata": {
        "id": "sjif4gbGHh0B"
      },
      "execution_count": 7,
      "outputs": []
    },
    {
      "cell_type": "code",
      "source": [
        "lr=LogisticRegression()\n",
        "\n",
        "lr.fit(X_train_cv,y_train)"
      ],
      "metadata": {
        "colab": {
          "base_uri": "https://localhost:8080/"
        },
        "id": "W845bP4qHh29",
        "outputId": "715a9745-6822-4677-a8be-c5f0bb291fa0"
      },
      "execution_count": 8,
      "outputs": [
        {
          "output_type": "execute_result",
          "data": {
            "text/plain": [
              "LogisticRegression()"
            ]
          },
          "metadata": {},
          "execution_count": 8
        }
      ]
    },
    {
      "cell_type": "code",
      "source": [
        "y_pred1=lr.predict(X_test_cv)\n",
        "from sklearn.metrics import confusion_matrix\n",
        "confusion_matrix(y_test,y_pred1)"
      ],
      "metadata": {
        "colab": {
          "base_uri": "https://localhost:8080/"
        },
        "id": "LFdQEECAHh6F",
        "outputId": "35702367-5bc6-4359-b25d-bebc91674e30"
      },
      "execution_count": 9,
      "outputs": [
        {
          "output_type": "execute_result",
          "data": {
            "text/plain": [
              "array([[4618,   42],\n",
              "       [ 391,   83]])"
            ]
          },
          "metadata": {},
          "execution_count": 9
        }
      ]
    },
    {
      "cell_type": "code",
      "source": [
        "from sklearn.metrics import classification_report\n",
        "print(classification_report(y_test,y_pred1))"
      ],
      "metadata": {
        "colab": {
          "base_uri": "https://localhost:8080/"
        },
        "id": "cmjQlZYfHh9O",
        "outputId": "4da8d98d-3e07-47f3-c435-60a259bc5e5e"
      },
      "execution_count": 10,
      "outputs": [
        {
          "output_type": "stream",
          "name": "stdout",
          "text": [
            "              precision    recall  f1-score   support\n",
            "\n",
            "           0       0.92      0.99      0.96      4660\n",
            "           1       0.66      0.18      0.28       474\n",
            "\n",
            "    accuracy                           0.92      5134\n",
            "   macro avg       0.79      0.58      0.62      5134\n",
            "weighted avg       0.90      0.92      0.89      5134\n",
            "\n"
          ]
        }
      ]
    }
  ]
}