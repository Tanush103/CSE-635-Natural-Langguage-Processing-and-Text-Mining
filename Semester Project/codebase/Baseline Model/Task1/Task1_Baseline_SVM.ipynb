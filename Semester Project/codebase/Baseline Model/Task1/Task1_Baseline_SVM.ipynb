{
  "nbformat": 4,
  "nbformat_minor": 0,
  "metadata": {
    "colab": {
      "name": "Task1 Baseline SVM",
      "provenance": [],
      "collapsed_sections": []
    },
    "kernelspec": {
      "name": "python3",
      "display_name": "Python 3"
    },
    "language_info": {
      "name": "python"
    }
  },
  "cells": [
    {
      "cell_type": "code",
      "execution_count": 1,
      "metadata": {
        "id": "lZzXCfLJulrJ"
      },
      "outputs": [],
      "source": [
        "import pandas as pd\n",
        "import numpy as np\n",
        "from sklearn.svm import SVC"
      ]
    },
    {
      "cell_type": "code",
      "source": [
        "#task1\n",
        "train_data=pd.read_csv('task2_en_training.tsv',sep='\\t')\n",
        "valid_data=pd.read_csv('task2_en_validation.tsv',sep='\\t')\n",
        "X_train=train_data['tweet']\n",
        "y_train=train_data['class']\n",
        "X_test=valid_data['tweet']\n",
        "y_test=valid_data['class']"
      ],
      "metadata": {
        "id": "DC6gAnaRuy4t"
      },
      "execution_count": 2,
      "outputs": []
    },
    {
      "cell_type": "markdown",
      "source": [
        "Count Vectorizer with Support Vector Machine"
      ],
      "metadata": {
        "id": "VVBlAodRvL6x"
      }
    },
    {
      "cell_type": "code",
      "source": [
        "from sklearn.feature_extraction.text import CountVectorizer\n",
        "cv = CountVectorizer(strip_accents=\"ascii\", token_pattern=u\"(?ui)\\\\b\\\\w*[a-z]+\\\\w*\\\\b\", lowercase=True, stop_words=\"english\")\n",
        "\n",
        "X_train_cv = cv.fit_transform(X_train)\n",
        "X_test_cv = cv.transform(X_test)"
      ],
      "metadata": {
        "id": "c32UwyQKu3mg"
      },
      "execution_count": 3,
      "outputs": []
    },
    {
      "cell_type": "code",
      "source": [
        "svmClassifier=SVC(kernel='rbf')\n",
        "\n",
        "svmClassifier.fit(X_train_cv,y_train)"
      ],
      "metadata": {
        "colab": {
          "base_uri": "https://localhost:8080/"
        },
        "id": "zHo_8e5eu_GZ",
        "outputId": "0f393db9-95b2-4e94-ddfb-acd1c4037031"
      },
      "execution_count": 4,
      "outputs": [
        {
          "output_type": "execute_result",
          "data": {
            "text/plain": [
              "SVC()"
            ]
          },
          "metadata": {},
          "execution_count": 4
        }
      ]
    },
    {
      "cell_type": "code",
      "source": [
        "from sklearn.metrics import accuracy_score, precision_score, recall_score,f1_score\n",
        "from sklearn.metrics import classification_report\n",
        "predictions=svmClassifier.predict(X_test_cv)\n",
        "print(\"Accuracy score: \", accuracy_score(y_test, predictions))\n",
        "print(\"F-1 score: \", f1_score(y_test, predictions,average=None))\n",
        "print(\"Precision score: \", precision_score(y_test, predictions))\n",
        "print(\"Recall score: \", recall_score(y_test, predictions,average='micro'))\n",
        "print (classification_report(y_test, predictions))"
      ],
      "metadata": {
        "colab": {
          "base_uri": "https://localhost:8080/"
        },
        "id": "eqB1COyCu_Lj",
        "outputId": "2402b656-2c67-447b-d6f3-d9e49efc12ec"
      },
      "execution_count": 5,
      "outputs": [
        {
          "output_type": "stream",
          "name": "stdout",
          "text": [
            "Accuracy score:  0.9144916244643553\n",
            "F-1 score:  [0.95485861 0.19152855]\n",
            "Precision score:  0.7536231884057971\n",
            "Recall score:  0.9144916244643553\n",
            "              precision    recall  f1-score   support\n",
            "\n",
            "           0       0.92      1.00      0.95      4660\n",
            "           1       0.75      0.11      0.19       474\n",
            "\n",
            "    accuracy                           0.91      5134\n",
            "   macro avg       0.84      0.55      0.57      5134\n",
            "weighted avg       0.90      0.91      0.88      5134\n",
            "\n"
          ]
        }
      ]
    }
  ]
}