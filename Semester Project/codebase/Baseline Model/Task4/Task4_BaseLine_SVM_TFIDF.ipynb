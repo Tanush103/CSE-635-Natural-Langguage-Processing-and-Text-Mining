{
  "nbformat": 4,
  "nbformat_minor": 0,
  "metadata": {
    "colab": {
      "name": "Task4 BaseLine-SVM-TFIDF",
      "provenance": []
    },
    "kernelspec": {
      "name": "python3",
      "display_name": "Python 3"
    },
    "language_info": {
      "name": "python"
    }
  },
  "cells": [
    {
      "cell_type": "code",
      "execution_count": 1,
      "metadata": {
        "id": "Vxs2Kmgp1Kbh"
      },
      "outputs": [],
      "source": [
        "import pandas as pd\n",
        "import numpy as np\n",
        "from sklearn.svm import SVC\n"
      ]
    },
    {
      "cell_type": "code",
      "source": [
        "#Task4\n",
        "train_data=pd.read_csv('train.tsv',sep='\\t',header=None)\n",
        "valid_data=pd.read_csv('valid.tsv',sep='\\t')\n",
        "train_data.columns=['tweet_id','user_id','tweet','label']\n",
        "\n",
        "X_train=train_data['tweet']\n",
        "y_train=train_data['label']\n",
        "X_test=valid_data['tweet']\n",
        "y_test=valid_data['label']"
      ],
      "metadata": {
        "id": "pcbBbkFM1_zH"
      },
      "execution_count": 2,
      "outputs": []
    },
    {
      "cell_type": "markdown",
      "source": [
        "Support Vector Machines With Tf-Idf Vectorizer"
      ],
      "metadata": {
        "id": "GqPlM0wf2B7t"
      }
    },
    {
      "cell_type": "code",
      "source": [
        "from sklearn.feature_extraction.text import TfidfVectorizer\n",
        "cv = TfidfVectorizer(strip_accents=\"ascii\", token_pattern=u\"(?ui)\\\\b\\\\w*[a-z]+\\\\w*\\\\b\", lowercase=True, stop_words=\"english\")\n",
        "\n",
        "X_train_cv = cv.fit_transform(X_train)\n",
        "X_test_cv = cv.transform(X_test)"
      ],
      "metadata": {
        "id": "1KjstZj_2CKe"
      },
      "execution_count": 3,
      "outputs": []
    },
    {
      "cell_type": "code",
      "source": [
        "\n",
        "svmClassifier=SVC(kernel='rbf')\n",
        "\n",
        "svmClassifier.fit(X_train_cv,y_train)"
      ],
      "metadata": {
        "colab": {
          "base_uri": "https://localhost:8080/"
        },
        "id": "oFZZK3dB2Nw-",
        "outputId": "5e94423b-8e8f-404f-c852-8f51069e860d"
      },
      "execution_count": 4,
      "outputs": [
        {
          "output_type": "execute_result",
          "data": {
            "text/plain": [
              "SVC()"
            ]
          },
          "metadata": {},
          "execution_count": 4
        }
      ]
    },
    {
      "cell_type": "code",
      "source": [
        "y_pred2=svmClassifier.predict(X_test_cv)\n",
        "from sklearn.metrics import classification_report\n",
        "print(classification_report(y_test,y_pred2))"
      ],
      "metadata": {
        "colab": {
          "base_uri": "https://localhost:8080/"
        },
        "id": "4PXPGiiG2P4s",
        "outputId": "6730fe22-155a-46c9-981c-17ebdb582136"
      },
      "execution_count": 5,
      "outputs": [
        {
          "output_type": "stream",
          "name": "stdout",
          "text": [
            "              precision    recall  f1-score   support\n",
            "\n",
            "           0       0.85      1.00      0.92       594\n",
            "           1       1.00      0.17      0.29       122\n",
            "\n",
            "    accuracy                           0.86       716\n",
            "   macro avg       0.93      0.59      0.61       716\n",
            "weighted avg       0.88      0.86      0.81       716\n",
            "\n"
          ]
        }
      ]
    }
  ]
}