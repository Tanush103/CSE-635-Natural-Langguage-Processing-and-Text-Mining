{
  "nbformat": 4,
  "nbformat_minor": 0,
  "metadata": {
    "colab": {
      "name": "Task4 BaseLine-LogisticRegression-TFIDF",
      "provenance": [],
      "collapsed_sections": []
    },
    "kernelspec": {
      "name": "python3",
      "display_name": "Python 3"
    },
    "language_info": {
      "name": "python"
    }
  },
  "cells": [
    {
      "cell_type": "code",
      "execution_count": 1,
      "metadata": {
        "id": "Yxp9GxnK1I5-"
      },
      "outputs": [],
      "source": [
        "import pandas as pd\n",
        "import numpy as np\n",
        "from sklearn.linear_model import LogisticRegression"
      ]
    },
    {
      "cell_type": "code",
      "source": [
        "#Task4\n",
        "train_data=pd.read_csv('train.tsv',sep='\\t',header=None)\n",
        "valid_data=pd.read_csv('valid.tsv',sep='\\t')\n",
        "train_data.columns=['tweet_id','user_id','tweet','label']\n",
        "\n",
        "X_train=train_data['tweet']\n",
        "y_train=train_data['label']\n",
        "X_test=valid_data['tweet']\n",
        "y_test=valid_data['label']"
      ],
      "metadata": {
        "id": "MDva26Fp2cw-"
      },
      "execution_count": 2,
      "outputs": []
    },
    {
      "cell_type": "markdown",
      "source": [
        "Logistic Regression with TfIdf Vectorizer\n",
        "\n",
        "\n"
      ],
      "metadata": {
        "id": "RbP30rAF2vdN"
      }
    },
    {
      "cell_type": "code",
      "source": [
        "from sklearn.feature_extraction.text import TfidfVectorizer\n",
        "cv = TfidfVectorizer(strip_accents=\"ascii\", token_pattern=u\"(?ui)\\\\b\\\\w*[a-z]+\\\\w*\\\\b\", lowercase=True, stop_words=\"english\")\n",
        "\n",
        "\n",
        "X_train_cv = cv.fit_transform(X_train)\n",
        "X_test_cv = cv.transform(X_test)"
      ],
      "metadata": {
        "id": "U43P-jcQ2fQW"
      },
      "execution_count": 3,
      "outputs": []
    },
    {
      "cell_type": "code",
      "source": [
        "lr=LogisticRegression()\n",
        "\n",
        "lr.fit(X_train_cv,y_train)"
      ],
      "metadata": {
        "colab": {
          "base_uri": "https://localhost:8080/"
        },
        "id": "978A3sVu2k0Q",
        "outputId": "e5a9588f-b1ee-448f-adbc-b0fd777d1994"
      },
      "execution_count": 4,
      "outputs": [
        {
          "output_type": "execute_result",
          "data": {
            "text/plain": [
              "LogisticRegression()"
            ]
          },
          "metadata": {},
          "execution_count": 4
        }
      ]
    },
    {
      "cell_type": "code",
      "source": [
        "y_pred1=lr.predict(X_test_cv)\n",
        "from sklearn.metrics import confusion_matrix\n",
        "confusion_matrix(y_test,y_pred1)"
      ],
      "metadata": {
        "colab": {
          "base_uri": "https://localhost:8080/"
        },
        "id": "qGT4Iljc2n0i",
        "outputId": "42a958b1-a0e1-4ead-dca2-b2e4109e45c3"
      },
      "execution_count": 5,
      "outputs": [
        {
          "output_type": "execute_result",
          "data": {
            "text/plain": [
              "array([[588,   6],\n",
              "       [ 99,  23]])"
            ]
          },
          "metadata": {},
          "execution_count": 5
        }
      ]
    },
    {
      "cell_type": "code",
      "source": [
        "from sklearn.metrics import classification_report\n",
        "print(classification_report(y_test,y_pred1))"
      ],
      "metadata": {
        "colab": {
          "base_uri": "https://localhost:8080/"
        },
        "id": "Ldns-aaJ2rBF",
        "outputId": "42e0cc39-61ea-4aa3-a161-724b96127774"
      },
      "execution_count": 6,
      "outputs": [
        {
          "output_type": "stream",
          "name": "stdout",
          "text": [
            "              precision    recall  f1-score   support\n",
            "\n",
            "           0       0.86      0.99      0.92       594\n",
            "           1       0.79      0.19      0.30       122\n",
            "\n",
            "    accuracy                           0.85       716\n",
            "   macro avg       0.82      0.59      0.61       716\n",
            "weighted avg       0.85      0.85      0.81       716\n",
            "\n"
          ]
        }
      ]
    }
  ]
}