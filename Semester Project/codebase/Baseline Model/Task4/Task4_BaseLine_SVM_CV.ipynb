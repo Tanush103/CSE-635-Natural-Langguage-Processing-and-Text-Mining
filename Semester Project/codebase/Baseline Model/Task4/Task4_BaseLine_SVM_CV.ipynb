{
  "nbformat": 4,
  "nbformat_minor": 0,
  "metadata": {
    "colab": {
      "name": "Task4 BaseLine-SVM-CV",
      "provenance": []
    },
    "kernelspec": {
      "name": "python3",
      "display_name": "Python 3"
    },
    "language_info": {
      "name": "python"
    }
  },
  "cells": [
    {
      "cell_type": "code",
      "execution_count": 1,
      "metadata": {
        "id": "cz5Hxj9Q1Lri"
      },
      "outputs": [],
      "source": [
        "import pandas as pd\n",
        "import numpy as np\n",
        "from sklearn.svm import SVC\n"
      ]
    },
    {
      "cell_type": "code",
      "source": [
        "#Task4\n",
        "train_data=pd.read_csv('train.tsv',sep='\\t',header=None)\n",
        "valid_data=pd.read_csv('valid.tsv',sep='\\t')\n",
        "train_data.columns=['tweet_id','user_id','tweet','label']\n",
        "\n",
        "X_train=train_data['tweet']\n",
        "y_train=train_data['label']\n",
        "X_test=valid_data['tweet']\n",
        "y_test=valid_data['label']"
      ],
      "metadata": {
        "id": "YiQFKsHI1fwI"
      },
      "execution_count": 2,
      "outputs": []
    },
    {
      "cell_type": "markdown",
      "source": [
        "Support Vector Machines With Count Vectorizer"
      ],
      "metadata": {
        "id": "BJzu_QQ71zMR"
      }
    },
    {
      "cell_type": "code",
      "source": [
        "from sklearn.feature_extraction.text import CountVectorizer\n",
        "cv = CountVectorizer(strip_accents=\"ascii\", token_pattern=u\"(?ui)\\\\b\\\\w*[a-z]+\\\\w*\\\\b\", lowercase=True, stop_words=\"english\")\n",
        "\n",
        "\n",
        "X_train_cv = cv.fit_transform(X_train)\n",
        "X_test_cv = cv.transform(X_test)"
      ],
      "metadata": {
        "id": "an5ryXK41mxm"
      },
      "execution_count": 3,
      "outputs": []
    },
    {
      "cell_type": "code",
      "source": [
        "\n",
        "svmClassifier=SVC(kernel='rbf')\n",
        "\n",
        "svmClassifier.fit(X_train_cv,y_train)"
      ],
      "metadata": {
        "colab": {
          "base_uri": "https://localhost:8080/"
        },
        "id": "x703owrp1qXF",
        "outputId": "82807445-ec8c-47ab-cf3b-f9138081e4e9"
      },
      "execution_count": 4,
      "outputs": [
        {
          "output_type": "execute_result",
          "data": {
            "text/plain": [
              "SVC()"
            ]
          },
          "metadata": {},
          "execution_count": 4
        }
      ]
    },
    {
      "cell_type": "code",
      "source": [
        "y_pred2=svmClassifier.predict(X_test_cv)\n",
        "from sklearn.metrics import classification_report\n",
        "print(classification_report(y_test,y_pred2))"
      ],
      "metadata": {
        "colab": {
          "base_uri": "https://localhost:8080/"
        },
        "id": "ee3oURCY1uxJ",
        "outputId": "fefec368-a9f9-44af-cdec-0ca54240c2b9"
      },
      "execution_count": 5,
      "outputs": [
        {
          "output_type": "stream",
          "name": "stdout",
          "text": [
            "              precision    recall  f1-score   support\n",
            "\n",
            "           0       0.85      1.00      0.92       594\n",
            "           1       1.00      0.16      0.27       122\n",
            "\n",
            "    accuracy                           0.86       716\n",
            "   macro avg       0.93      0.58      0.59       716\n",
            "weighted avg       0.88      0.86      0.81       716\n",
            "\n"
          ]
        }
      ]
    }
  ]
}